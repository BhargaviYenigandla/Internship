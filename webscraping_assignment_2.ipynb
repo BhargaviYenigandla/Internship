{
 "cells": [
  {
   "cell_type": "code",
   "execution_count": null,
   "id": "e9839ccb",
   "metadata": {},
   "outputs": [],
   "source": [
    "#1 python program to scrape data from naukri for data analyst role\n",
    "!pip install selenium"
   ]
  },
  {
   "cell_type": "code",
   "execution_count": null,
   "id": "9d684203",
   "metadata": {},
   "outputs": [],
   "source": [
    "import selenium\n",
    "import pandas as pd\n",
    "from selenium import webdriver\n",
    "import warnings\n",
    "warnings.filterwarnings(\"ignore\")\n",
    "import time\n",
    "from time import sleep"
   ]
  },
  {
   "cell_type": "code",
   "execution_count": null,
   "id": "b0ec74a9",
   "metadata": {},
   "outputs": [],
   "source": [
    "naukri=webdriver.Chrome(\"chromedriver.exe\")"
   ]
  },
  {
   "cell_type": "code",
   "execution_count": null,
   "id": "7c76be08",
   "metadata": {},
   "outputs": [],
   "source": [
    "naukri.get('https://www.naukri.com/')"
   ]
  },
  {
   "cell_type": "code",
   "execution_count": null,
   "id": "1169a966",
   "metadata": {},
   "outputs": [],
   "source": [
    "naukri.maximize_window()"
   ]
  },
  {
   "cell_type": "code",
   "execution_count": null,
   "id": "2c517a1b",
   "metadata": {},
   "outputs": [],
   "source": [
    "job_designation=naukri.find_element_by_class_name(\"suggestor-input \")\n",
    "job_designation.send_keys(\"Data Analyst\")"
   ]
  },
  {
   "cell_type": "code",
   "execution_count": null,
   "id": "b13c1e2a",
   "metadata": {},
   "outputs": [],
   "source": [
    "job_location=naukri.find_element_by_xpath(\"/html/body/div/div[2]/div[3]/div/div/div[5]/div/div/div/input\")\n",
    "job_location.send_keys(\"Bangalore\")\n",
    "time.sleep(3)"
   ]
  },
  {
   "cell_type": "code",
   "execution_count": null,
   "id": "14df9bc1",
   "metadata": {},
   "outputs": [],
   "source": [
    "search_button=naukri.find_element_by_xpath(\"/html/body/div/div[2]/div[3]/div/div/div[6]\")\n",
    "search_button.click()"
   ]
  },
  {
   "cell_type": "code",
   "execution_count": null,
   "id": "5afd0ff4",
   "metadata": {},
   "outputs": [],
   "source": [
    "job_titles=[]\n",
    "job_company_location=[]\n",
    "job_company_names=[]\n",
    "experience_years=[]"
   ]
  },
  {
   "cell_type": "code",
   "execution_count": null,
   "id": "4df171a0",
   "metadata": {},
   "outputs": [],
   "source": [
    "titles=naukri.find_elements_by_xpath(\"//a[@class='title fw500 ellipsis']\")\n",
    "titles[0:10]"
   ]
  },
  {
   "cell_type": "code",
   "execution_count": null,
   "id": "31f05f1d",
   "metadata": {},
   "outputs": [],
   "source": [
    "for i in titles:\n",
    "    title=i.text\n",
    "    job_titles.append(title)\n",
    "job_titles[0:10]"
   ]
  },
  {
   "cell_type": "code",
   "execution_count": null,
   "id": "4d8414f1",
   "metadata": {},
   "outputs": [],
   "source": [
    "locations=naukri.find_elements_by_xpath(\"//li[@class='fleft grey-text br2 placeHolderLi location']/span[1]\")\n",
    "locations[0:10]"
   ]
  },
  {
   "cell_type": "code",
   "execution_count": null,
   "id": "287cabe7",
   "metadata": {},
   "outputs": [],
   "source": [
    "companies=naukri.find_elements_by_xpath(\"//a[@class='subTitle ellipsis fleft']\")\n",
    "companies[0:10]"
   ]
  },
  {
   "cell_type": "code",
   "execution_count": null,
   "id": "2a6e681e",
   "metadata": {},
   "outputs": [],
   "source": [
    "for i in locations:\n",
    "    location=i.text\n",
    "    job_company_location.append(location)\n",
    "job_company_location[0:10]"
   ]
  },
  {
   "cell_type": "code",
   "execution_count": null,
   "id": "0085fb20",
   "metadata": {},
   "outputs": [],
   "source": [
    "for i in companies:\n",
    "    company=i.text\n",
    "    job_company_names.append(company)\n",
    "job_company_names[0:10]"
   ]
  },
  {
   "cell_type": "code",
   "execution_count": null,
   "id": "fe0e9eb5",
   "metadata": {},
   "outputs": [],
   "source": [
    "experience_company=naukri.find_elements_by_xpath(\"//li[@class='fleft grey-text br2 placeHolderLi experience']\")\n",
    "experience_company[0:10]"
   ]
  },
  {
   "cell_type": "code",
   "execution_count": null,
   "id": "aa520f3c",
   "metadata": {},
   "outputs": [],
   "source": [
    "for i in experience_company:\n",
    "    experience=i.text\n",
    "    experience_years.append(experience)\n",
    "experience_years[0:10]"
   ]
  },
  {
   "cell_type": "code",
   "execution_count": null,
   "id": "0a9caff7",
   "metadata": {},
   "outputs": [],
   "source": [
    "print(len(job_titles),len(job_company_location),len(job_company_names),len(experience_years))"
   ]
  },
  {
   "cell_type": "code",
   "execution_count": null,
   "id": "07db3e04",
   "metadata": {},
   "outputs": [],
   "source": [
    "jobs=pd.DataFrame()\n",
    "jobs['title']=job_titles\n",
    "jobs['location']=job_company_location\n",
    "jobs['company']=job_company_names\n",
    "jobs['experience_reqd']=experience_years"
   ]
  },
  {
   "cell_type": "code",
   "execution_count": null,
   "id": "f21eba45",
   "metadata": {},
   "outputs": [],
   "source": [
    "jobs"
   ]
  },
  {
   "cell_type": "code",
   "execution_count": null,
   "id": "0d6cab01",
   "metadata": {},
   "outputs": [],
   "source": [
    "#2 python program to scrape the data from naukri for data scientist"
   ]
  },
  {
   "cell_type": "code",
   "execution_count": null,
   "id": "210e324b",
   "metadata": {},
   "outputs": [],
   "source": [
    "!pip install selenium"
   ]
  },
  {
   "cell_type": "code",
   "execution_count": null,
   "id": "b20544f6",
   "metadata": {},
   "outputs": [],
   "source": [
    "import selenium\n",
    "import pandas as pd\n",
    "from selenium import webdriver\n",
    "import warnings\n",
    "warnings.filterwarnings(\"ignore\")\n",
    "import time\n",
    "from time import sleep"
   ]
  },
  {
   "cell_type": "code",
   "execution_count": null,
   "id": "df0881fa",
   "metadata": {},
   "outputs": [],
   "source": [
    "naukri_data=webdriver.Chrome(\"chromedriver.exe\")"
   ]
  },
  {
   "cell_type": "code",
   "execution_count": null,
   "id": "db257e3b",
   "metadata": {},
   "outputs": [],
   "source": [
    "naukri_data.get('https://www.naukri.com/')"
   ]
  },
  {
   "cell_type": "code",
   "execution_count": null,
   "id": "6c6d9133",
   "metadata": {},
   "outputs": [],
   "source": [
    "naukri_data.maximize_window()"
   ]
  },
  {
   "cell_type": "code",
   "execution_count": null,
   "id": "4812fafd",
   "metadata": {},
   "outputs": [],
   "source": [
    "job_designation_search=naukri_data.find_element_by_class_name(\"suggestor-input \")\n",
    "job_designation_search.send_keys(\"Data Scientist\")"
   ]
  },
  {
   "cell_type": "code",
   "execution_count": null,
   "id": "73ace6ba",
   "metadata": {},
   "outputs": [],
   "source": [
    "job_location_search=naukri_data.find_element_by_xpath(\"/html/body/div/div[2]/div[3]/div/div/div[5]/div/div/div/input\")\n",
    "job_location_search.send_keys(\"Bangalore\")\n",
    "time.sleep(3)"
   ]
  },
  {
   "cell_type": "code",
   "execution_count": null,
   "id": "e8aa67d2",
   "metadata": {},
   "outputs": [],
   "source": [
    "search_button=naukri_data.find_element_by_xpath(\"/html/body/div/div[2]/div[3]/div/div/div[6]\")\n",
    "search_button.click()"
   ]
  },
  {
   "cell_type": "code",
   "execution_count": null,
   "id": "24cd54e8",
   "metadata": {},
   "outputs": [],
   "source": [
    "job_titles_data=[]\n",
    "job_company_location_data=[]\n",
    "job_company_names_data=[]"
   ]
  },
  {
   "cell_type": "code",
   "execution_count": null,
   "id": "e1b1de00",
   "metadata": {},
   "outputs": [],
   "source": [
    "titles_data=naukri_data.find_elements_by_xpath(\"//a[@class='title fw500 ellipsis']\")\n",
    "titles_data[0:10]"
   ]
  },
  {
   "cell_type": "code",
   "execution_count": null,
   "id": "e0441e4a",
   "metadata": {},
   "outputs": [],
   "source": [
    "for i in titles_data:\n",
    "    title=i.text\n",
    "    job_titles_data.append(title)\n",
    "job_titles_data[0:10]"
   ]
  },
  {
   "cell_type": "code",
   "execution_count": null,
   "id": "1274579e",
   "metadata": {},
   "outputs": [],
   "source": [
    "locations_data=naukri_data.find_elements_by_xpath(\"//li[@class='fleft grey-text br2 placeHolderLi location']/span[1]\")\n",
    "locations_data[0:10]"
   ]
  },
  {
   "cell_type": "code",
   "execution_count": null,
   "id": "b568b3db",
   "metadata": {},
   "outputs": [],
   "source": [
    "for i in locations_data:\n",
    "    location=i.text\n",
    "    job_company_location_data.append(location)\n",
    "job_company_location_data[0:10]"
   ]
  },
  {
   "cell_type": "code",
   "execution_count": null,
   "id": "f612cd62",
   "metadata": {},
   "outputs": [],
   "source": [
    "companies_data=naukri_data.find_elements_by_xpath(\"//a[@class='subTitle ellipsis fleft']\")\n",
    "companies_data[0:10]"
   ]
  },
  {
   "cell_type": "code",
   "execution_count": null,
   "id": "eaf58a46",
   "metadata": {},
   "outputs": [],
   "source": [
    "for i in companies_data:\n",
    "    company=i.text\n",
    "    job_company_names_data.append(company)\n",
    "job_company_names_data[0:10]"
   ]
  },
  {
   "cell_type": "code",
   "execution_count": null,
   "id": "eb9159cf",
   "metadata": {},
   "outputs": [],
   "source": [
    "jobs_dataScientist=pd.DataFrame()\n",
    "jobs_dataScientist['title']=job_titles_data\n",
    "jobs_dataScientist['location']=job_company_location_data\n",
    "jobs_dataScientist['company']=job_company_names_data"
   ]
  },
  {
   "cell_type": "code",
   "execution_count": null,
   "id": "15eec588",
   "metadata": {},
   "outputs": [],
   "source": [
    "jobs_dataScientist"
   ]
  },
  {
   "cell_type": "code",
   "execution_count": null,
   "id": "7bb8dd16",
   "metadata": {},
   "outputs": [],
   "source": [
    "#3 program to scrape the data from naukri  for data scientist"
   ]
  },
  {
   "cell_type": "code",
   "execution_count": null,
   "id": "92fbce4f",
   "metadata": {},
   "outputs": [],
   "source": [
    "!pip install selenium"
   ]
  },
  {
   "cell_type": "code",
   "execution_count": null,
   "id": "747baa86",
   "metadata": {},
   "outputs": [],
   "source": [
    "import selenium\n",
    "import pandas as pd\n",
    "from selenium import webdriver\n",
    "import warnings\n",
    "warnings.filterwarnings(\"ignore\")\n",
    "import time\n",
    "from time import sleep"
   ]
  },
  {
   "cell_type": "code",
   "execution_count": null,
   "id": "8cad07f7",
   "metadata": {},
   "outputs": [],
   "source": [
    "driver_chrome=webdriver.Chrome(\"chromedriver.exe\")"
   ]
  },
  {
   "cell_type": "code",
   "execution_count": null,
   "id": "5f3ed620",
   "metadata": {},
   "outputs": [],
   "source": [
    "driver_chrome.get('https://www.naukri.com/')"
   ]
  },
  {
   "cell_type": "code",
   "execution_count": null,
   "id": "47e0a034",
   "metadata": {},
   "outputs": [],
   "source": [
    "driver_chrome.maximize_window()"
   ]
  },
  {
   "cell_type": "code",
   "execution_count": null,
   "id": "883b865d",
   "metadata": {},
   "outputs": [],
   "source": [
    "designation=driver_chrome.find_element_by_class_name(\"suggestor-input \")\n",
    "designation.send_keys(\"Data Scientist\")\n",
    "time.sleep(5)"
   ]
  },
  {
   "cell_type": "code",
   "execution_count": null,
   "id": "a45c58ec",
   "metadata": {},
   "outputs": [],
   "source": [
    "search_button=driver_chrome.find_element_by_xpath(\"/html/body/div/div[2]/div[3]/div/div/div[6]\")\n",
    "search_button.click()\n"
   ]
  },
  {
   "cell_type": "code",
   "execution_count": null,
   "id": "1ed220c8",
   "metadata": {},
   "outputs": [],
   "source": [
    "location=driver_chrome.find_element_by_xpath(\"/html/body/div[1]/div[3]/div[2]/section[1]/div[2]/div[5]/div[2]/div[3]/label/i\")\n",
    "location.click()\n",
    "time.sleep(2)"
   ]
  },
  {
   "cell_type": "code",
   "execution_count": null,
   "id": "ce784661",
   "metadata": {},
   "outputs": [],
   "source": [
    "salary=driver_chrome.find_element_by_xpath(\"/html/body/div[1]/div[3]/div[2]/section[1]/div[2]/div[6]/div[2]/div[2]/label/i\")\n",
    "salary.click()"
   ]
  },
  {
   "cell_type": "code",
   "execution_count": null,
   "id": "114e1759",
   "metadata": {},
   "outputs": [],
   "source": [
    "job_titles_field=[]\n",
    "job_company_location_field=[]\n",
    "job_company_names_field=[]\n",
    "experience_years_field=[]"
   ]
  },
  {
   "cell_type": "code",
   "execution_count": null,
   "id": "156dc2ad",
   "metadata": {},
   "outputs": [],
   "source": [
    "titles_field=driver_chrome.find_elements_by_xpath(\"//a[@class='title fw500 ellipsis']\")\n",
    "titles_field[0:10]"
   ]
  },
  {
   "cell_type": "code",
   "execution_count": null,
   "id": "a7366532",
   "metadata": {},
   "outputs": [],
   "source": [
    "for i in titles_field:\n",
    "    title=i.text\n",
    "    job_titles_field.append(title)\n",
    "job_titles_field[0:10]"
   ]
  },
  {
   "cell_type": "code",
   "execution_count": null,
   "id": "85a5aa16",
   "metadata": {},
   "outputs": [],
   "source": [
    "locations_field=driver_chrome.find_elements_by_xpath(\"//li[@class='fleft grey-text br2 placeHolderLi location']/span[1]\")\n",
    "locations_field[0:10]"
   ]
  },
  {
   "cell_type": "code",
   "execution_count": null,
   "id": "e8908567",
   "metadata": {},
   "outputs": [],
   "source": [
    "for i in locations_field:\n",
    "    location=i.text\n",
    "    job_company_location_field.append(location)\n",
    "job_company_location_field[0:10]"
   ]
  },
  {
   "cell_type": "code",
   "execution_count": null,
   "id": "58629af6",
   "metadata": {},
   "outputs": [],
   "source": [
    "companies_field=driver_chrome.find_elements_by_xpath(\"//a[@class='subTitle ellipsis fleft']\")\n",
    "companies_field[0:10]"
   ]
  },
  {
   "cell_type": "code",
   "execution_count": null,
   "id": "eb0d1b7c",
   "metadata": {},
   "outputs": [],
   "source": [
    "for i in companies_field:\n",
    "    company=i.text\n",
    "    job_company_names_field.append(company)\n",
    "job_company_names_field[0:10]"
   ]
  },
  {
   "cell_type": "code",
   "execution_count": null,
   "id": "7e60f04e",
   "metadata": {},
   "outputs": [],
   "source": [
    "experience_company_field=driver_chrome.find_elements_by_xpath(\"//li[@class='fleft grey-text br2 placeHolderLi experience']\")\n",
    "experience_company_field[0:10]"
   ]
  },
  {
   "cell_type": "code",
   "execution_count": null,
   "id": "96de35ec",
   "metadata": {},
   "outputs": [],
   "source": [
    "for i in experience_company_field:\n",
    "    experience=i.text\n",
    "    experience_years_field.append(experience)\n",
    "experience_years_field[0:10]"
   ]
  },
  {
   "cell_type": "code",
   "execution_count": null,
   "id": "4af53164",
   "metadata": {},
   "outputs": [],
   "source": [
    "jobs_field=pd.DataFrame()\n",
    "jobs_field['title']=job_titles_field\n",
    "jobs_field['location']=job_company_location_field\n",
    "jobs_field['company']=job_company_names_field\n",
    "jobs_field['experience_reqd']=experience_years_field"
   ]
  },
  {
   "cell_type": "code",
   "execution_count": null,
   "id": "f5691078",
   "metadata": {},
   "outputs": [],
   "source": [
    "jobs_field"
   ]
  },
  {
   "cell_type": "code",
   "execution_count": null,
   "id": "2b133f57",
   "metadata": {},
   "outputs": [],
   "source": [
    "#4 python program to scrape the data from filpkart for sunglasses"
   ]
  },
  {
   "cell_type": "code",
   "execution_count": null,
   "id": "29b049fb",
   "metadata": {},
   "outputs": [],
   "source": [
    "!pip install selenium"
   ]
  },
  {
   "cell_type": "code",
   "execution_count": null,
   "id": "d2c41eb2",
   "metadata": {},
   "outputs": [],
   "source": [
    "import selenium\n",
    "import pandas as pd\n",
    "from selenium import webdriver\n",
    "import warnings\n",
    "warnings.filterwarnings(\"ignore\")\n",
    "import time\n",
    "from time import sleep "
   ]
  },
  {
   "cell_type": "code",
   "execution_count": null,
   "id": "852ba06e",
   "metadata": {},
   "outputs": [],
   "source": [
    "driver_chrome=webdriver.Chrome(\"chromedriver.exe\")"
   ]
  },
  {
   "cell_type": "code",
   "execution_count": null,
   "id": "44843c49",
   "metadata": {},
   "outputs": [],
   "source": [
    "driver_chrome.get('https://www.flipkart.com/')"
   ]
  },
  {
   "cell_type": "code",
   "execution_count": null,
   "id": "27da04a7",
   "metadata": {},
   "outputs": [],
   "source": [
    "driver_chrome.maximize_window()"
   ]
  },
  {
   "cell_type": "code",
   "execution_count": null,
   "id": "19ed3c76",
   "metadata": {},
   "outputs": [],
   "source": [
    "product_filpkart=driver_chrome.find_element_by_class_name(\"_3704LK \")\n",
    "product_filpkart.send_keys(\"Sun glasses\")\n",
    "time.sleep(2)"
   ]
  },
  {
   "cell_type": "code",
   "execution_count": null,
   "id": "6d020f88",
   "metadata": {},
   "outputs": [],
   "source": [
    "search_button_filpkart=driver_chrome.find_element_by_xpath(\"/html/body/div[1]/div/div[1]/div[1]/div[2]/div[2]/form/div/button\")\n",
    "search_button_filpkart.click()"
   ]
  },
  {
   "cell_type": "code",
   "execution_count": null,
   "id": "b56e82d0",
   "metadata": {},
   "outputs": [],
   "source": [
    "brand_fp=[]\n",
    "product_description_fp=[]\n",
    "price_fp=[]"
   ]
  },
  {
   "cell_type": "code",
   "execution_count": null,
   "id": "9c53d8f8",
   "metadata": {},
   "outputs": [],
   "source": [
    "for i in range(3):\n",
    "    name=driver_chrome.find_elements_by_xpath(\"//div[@class='_2WkVRV']\")\n",
    "    price=driver_chrome.find_elements_by_xpath(\"//div[@class='_30jeq3']\")\n",
    "    description=driver_chrome.find_elements_by_xpath(\"//a[@class='IRpwTa']\")"
   ]
  },
  {
   "cell_type": "code",
   "execution_count": null,
   "id": "0cee2a12",
   "metadata": {},
   "outputs": [],
   "source": [
    "for i in name:\n",
    "    brand_fp.append(i.text)\n",
    "brand_fp[0:100]\n"
   ]
  },
  {
   "cell_type": "code",
   "execution_count": null,
   "id": "ce766c2c",
   "metadata": {},
   "outputs": [],
   "source": [
    "next_button_filpkart_one=driver_chrome.find_element_by_xpath(\"/html/body/div[1]/div/div[3]/div[1]/div[2]/div[12]/div/div/nav/a[11]\")\n",
    "next_button_filpkart_one.click()"
   ]
  },
  {
   "cell_type": "code",
   "execution_count": null,
   "id": "61789f1c",
   "metadata": {},
   "outputs": [],
   "source": [
    "for i in range(3):\n",
    "    name=driver_chrome.find_elements_by_xpath(\"//div[@class='_2WkVRV']\")\n",
    "    price=driver_chrome.find_elements_by_xpath(\"//div[@class='_30jeq3']\")\n",
    "    description=driver_chrome.find_elements_by_xpath(\"//a[@class='IRpwTa']\")"
   ]
  },
  {
   "cell_type": "code",
   "execution_count": null,
   "id": "60ae5929",
   "metadata": {},
   "outputs": [],
   "source": [
    "for i in name:\n",
    "    brand_fp.append(i.text)\n",
    "brand_fp[0:100]"
   ]
  },
  {
   "cell_type": "code",
   "execution_count": null,
   "id": "c10228f3",
   "metadata": {},
   "outputs": [],
   "source": [
    "next_button_filpkart_two=driver_chrome.find_element_by_xpath(\"/html/body/div[1]/div/div[3]/div[1]/div[2]/div[12]/div/div/nav/a[12]\")\n",
    "next_button_filpkart_two.click()"
   ]
  },
  {
   "cell_type": "code",
   "execution_count": null,
   "id": "291ff5b9",
   "metadata": {},
   "outputs": [],
   "source": [
    "for i in range(3):\n",
    "    name=driver_chrome.find_elements_by_xpath(\"//div[@class='_2WkVRV']\")\n",
    "    price=driver_chrome.find_elements_by_xpath(\"//div[@class='_30jeq3']\")\n",
    "    description=driver_chrome.find_elements_by_xpath(\"//a[@class='IRpwTa']\")"
   ]
  },
  {
   "cell_type": "code",
   "execution_count": null,
   "id": "7d17673c",
   "metadata": {},
   "outputs": [],
   "source": [
    "for i in name:\n",
    "    brand_fp.append(i.text)\n",
    "brand_fp[0:100]"
   ]
  },
  {
   "cell_type": "code",
   "execution_count": null,
   "id": "e79215f7",
   "metadata": {},
   "outputs": [],
   "source": [
    "for i in price:\n",
    "    price_fp.append(i.text)\n",
    "price_fp[0:100]"
   ]
  },
  {
   "cell_type": "code",
   "execution_count": null,
   "id": "07d35b34",
   "metadata": {},
   "outputs": [],
   "source": [
    "next_button_filpkart_one=driver_chrome.find_element_by_xpath(\"/html/body/div[1]/div/div[3]/div[1]/div[2]/div[12]/div/div/nav/a[11]\")\n",
    "next_button_filpkart_one.click()"
   ]
  },
  {
   "cell_type": "code",
   "execution_count": null,
   "id": "cdb857c5",
   "metadata": {},
   "outputs": [],
   "source": [
    "for i in range(3):\n",
    "    name=driver_chrome.find_elements_by_xpath(\"//div[@class='_2WkVRV']\")\n",
    "    price=driver_chrome.find_elements_by_xpath(\"//div[@class='_30jeq3']\")\n",
    "    description=driver_chrome.find_elements_by_xpath(\"//a[@class='IRpwTa']\")"
   ]
  },
  {
   "cell_type": "code",
   "execution_count": null,
   "id": "8840436f",
   "metadata": {},
   "outputs": [],
   "source": [
    "for i in price:\n",
    "    price_fp.append(i.text)\n",
    "price_fp[0:100]"
   ]
  },
  {
   "cell_type": "code",
   "execution_count": null,
   "id": "735f700b",
   "metadata": {},
   "outputs": [],
   "source": [
    "next_button_filpkart=driver_chrome.find_element_by_xpath(\"/html/body/div[1]/div/div[3]/div[1]/div[2]/div[12]/div/div/nav/a[12]\")\n",
    "next_button_filpkart.click()"
   ]
  },
  {
   "cell_type": "code",
   "execution_count": null,
   "id": "adac52fa",
   "metadata": {},
   "outputs": [],
   "source": [
    "for i in range(3):\n",
    "    name=driver_chrome.find_elements_by_xpath(\"//div[@class='_2WkVRV']\")\n",
    "    price=driver_chrome.find_elements_by_xpath(\"//div[@class='_30jeq3']\")\n",
    "    description=driver_chrome.find_elements_by_xpath(\"//a[@class='IRpwTa']\")"
   ]
  },
  {
   "cell_type": "code",
   "execution_count": null,
   "id": "4d23a766",
   "metadata": {},
   "outputs": [],
   "source": [
    "for i in price:\n",
    "    price_fp.append(i.text)\n",
    "price_fp[0:100]"
   ]
  },
  {
   "cell_type": "code",
   "execution_count": null,
   "id": "535f9349",
   "metadata": {},
   "outputs": [],
   "source": [
    "for i in description:\n",
    "    product_description_fp.append(i.text)\n",
    "product_description_fp[0:100]"
   ]
  },
  {
   "cell_type": "code",
   "execution_count": null,
   "id": "81d06665",
   "metadata": {},
   "outputs": [],
   "source": [
    "next_button_filpkart_two=driver_chrome.find_element_by_xpath(\"/html/body/div[1]/div/div[3]/div[1]/div[2]/div[12]/div/div/nav/a[11]\")\n",
    "next_button_filpkart_two.click()"
   ]
  },
  {
   "cell_type": "code",
   "execution_count": null,
   "id": "87cc6c1f",
   "metadata": {},
   "outputs": [],
   "source": [
    "for i in range(3):\n",
    "    name=driver_chrome.find_elements_by_xpath(\"//div[@class='_2WkVRV']\")\n",
    "    price=driver_chrome.find_elements_by_xpath(\"//div[@class='_30jeq3']\")\n",
    "    description=driver_chrome.find_elements_by_xpath(\"//a[@class='IRpwTa']\")"
   ]
  },
  {
   "cell_type": "code",
   "execution_count": null,
   "id": "cf08aebe",
   "metadata": {},
   "outputs": [],
   "source": [
    "for i in description:\n",
    "    product_description_fp.append(i.text)\n",
    "product_description_fp[0:100]"
   ]
  },
  {
   "cell_type": "code",
   "execution_count": null,
   "id": "f574d47f",
   "metadata": {},
   "outputs": [],
   "source": [
    "next_button_filpkart=driver_chrome.find_element_by_xpath(\"/html/body/div[1]/div/div[3]/div[1]/div[2]/div[12]/div/div/nav/a[12]\")\n",
    "next_button_filpkart.click()"
   ]
  },
  {
   "cell_type": "code",
   "execution_count": null,
   "id": "7ebd651b",
   "metadata": {},
   "outputs": [],
   "source": [
    "for i in range(3):\n",
    "    name=driver_chrome.find_elements_by_xpath(\"//div[@class='_2WkVRV']\")\n",
    "    price=driver_chrome.find_elements_by_xpath(\"//div[@class='_30jeq3']\")\n",
    "    description=driver_chrome.find_elements_by_xpath(\"//a[@class='IRpwTa']\")"
   ]
  },
  {
   "cell_type": "code",
   "execution_count": null,
   "id": "7cd2a54d",
   "metadata": {},
   "outputs": [],
   "source": [
    "for i in description:\n",
    "    product_description_fp.append(i.text)\n",
    "product_description_fp[0:100]"
   ]
  },
  {
   "cell_type": "code",
   "execution_count": null,
   "id": "ffe34043",
   "metadata": {},
   "outputs": [],
   "source": [
    "df=pd.DataFrame()\n",
    "df[\"names\"]=brand_fp\n",
    "df[\"prices\"]=price_fp\n",
    "df[\"product_description\"]=product_description_fp\n",
    "df"
   ]
  },
  {
   "cell_type": "code",
   "execution_count": null,
   "id": "5a45d855",
   "metadata": {},
   "outputs": [],
   "source": [
    "#5 python program to scrape the data from filpkart for iphone11 "
   ]
  },
  {
   "cell_type": "code",
   "execution_count": null,
   "id": "e61af921",
   "metadata": {},
   "outputs": [],
   "source": [
    "!pip install selenium"
   ]
  },
  {
   "cell_type": "code",
   "execution_count": null,
   "id": "44decac3",
   "metadata": {},
   "outputs": [],
   "source": [
    "import selenium\n",
    "import pandas as pd\n",
    "from selenium import webdriver\n",
    "import warnings\n",
    "warnings.filterwarnings(\"ignore\")\n",
    "import time\n",
    "from time import sleep"
   ]
  },
  {
   "cell_type": "code",
   "execution_count": null,
   "id": "e9e23952",
   "metadata": {},
   "outputs": [],
   "source": [
    "driver_chrome=webdriver.Chrome(\"chromedriver.exe\")"
   ]
  },
  {
   "cell_type": "code",
   "execution_count": null,
   "id": "ff2cf951",
   "metadata": {},
   "outputs": [],
   "source": [
    "driver_chrome.get('https://www.flipkart.com/')"
   ]
  },
  {
   "cell_type": "code",
   "execution_count": null,
   "id": "fedef01b",
   "metadata": {},
   "outputs": [],
   "source": [
    "driver_chrome.maximize_window()"
   ]
  },
  {
   "cell_type": "code",
   "execution_count": null,
   "id": "ad7e842d",
   "metadata": {},
   "outputs": [],
   "source": [
    "product_filpkart=driver_chrome.find_element_by_class_name(\"_3704LK \")\n",
    "product_filpkart.send_keys(\"iphone11\")\n",
    "time.sleep(3)"
   ]
  },
  {
   "cell_type": "code",
   "execution_count": null,
   "id": "4c822475",
   "metadata": {},
   "outputs": [],
   "source": [
    "search_button_filpkart=driver_chrome.find_element_by_xpath(\"/html/body/div[1]/div/div[1]/div[1]/div[2]/div[2]/form/div/button\")\n",
    "search_button_filpkart.click()\n",
    "time.sleep(3)"
   ]
  },
  {
   "cell_type": "code",
   "execution_count": null,
   "id": "f80a2cbd",
   "metadata": {},
   "outputs": [],
   "source": [
    "iphone11=driver_chrome.find_element_by_xpath(\"/html/body/div[1]/div/div[3]/div[1]/div[2]/div[2]/div/div/div/a/div[1]/div[1]/div/div/img\")\n",
    "iphone11.click()"
   ]
  },
  {
   "cell_type": "code",
   "execution_count": null,
   "id": "028cfdd1",
   "metadata": {},
   "outputs": [],
   "source": [
    "rating_fp=[]\n",
    "review_summary_fp=[]\n",
    "full_summary_fp=[]"
   ]
  },
  {
   "cell_type": "code",
   "execution_count": null,
   "id": "9f8a856f",
   "metadata": {},
   "outputs": [],
   "source": [
    "for i in range(3):\n",
    "    rate=driver_chrome.find_elements_by_xpath(\"//div[@class='_3LWZlK _1BLPMq']\")\n",
    "    re_summary=driver_chrome.find_elements_by_xpath(\"//p[@class='_2-N8zT']\")\n",
    "    fu_summary=driver_chrome.find_elements_by_xpath(\"//div[@class='t-ZTKy']\")\n",
    "time.sleep(5)\n"
   ]
  },
  {
   "cell_type": "code",
   "execution_count": null,
   "id": "fef382b3",
   "metadata": {},
   "outputs": [],
   "source": [
    "for i in rate:\n",
    "    rating_fp.append(i.text)\n",
    "rating_fp[0:100]"
   ]
  },
  {
   "cell_type": "code",
   "execution_count": null,
   "id": "7aaa57b8",
   "metadata": {},
   "outputs": [],
   "source": [
    "for i in re_summary:\n",
    "    review_summary_fp.append(i.text)\n",
    "review_summary_fp[0:100]"
   ]
  },
  {
   "cell_type": "code",
   "execution_count": null,
   "id": "8c658dea",
   "metadata": {},
   "outputs": [],
   "source": [
    "for i in fu_summary:\n",
    "    full_summary_fp.append(i.text)\n",
    "full_summary_fp[0:100]"
   ]
  },
  {
   "cell_type": "code",
   "execution_count": null,
   "id": "b87e3aec",
   "metadata": {},
   "outputs": [],
   "source": [
    "df_fp=pd.DataFrame()\n",
    "df_fp[\"rating\"]=rating_fp\n",
    "df_fp[\"review_summary\"]=review_summary_fp\n",
    "df_fp[\"full_review\"]=full_summary_fp\n",
    "df_fp"
   ]
  },
  {
   "cell_type": "code",
   "execution_count": null,
   "id": "1d2560fa",
   "metadata": {},
   "outputs": [],
   "source": [
    "#6 python program to scarpe the data from filpkart for sneakers"
   ]
  },
  {
   "cell_type": "code",
   "execution_count": null,
   "id": "6d58c5e6",
   "metadata": {},
   "outputs": [],
   "source": [
    "!pip install selenium"
   ]
  },
  {
   "cell_type": "code",
   "execution_count": null,
   "id": "d53ff585",
   "metadata": {},
   "outputs": [],
   "source": [
    "import selenium\n",
    "import pandas as pd\n",
    "from selenium import webdriver\n",
    "import warnings\n",
    "warnings.filterwarnings(\"ignore\")\n",
    "import time\n",
    "from time import sleep"
   ]
  },
  {
   "cell_type": "code",
   "execution_count": null,
   "id": "b2916118",
   "metadata": {},
   "outputs": [],
   "source": [
    "driver_chrome=webdriver.Chrome(\"chromedriver.exe\")"
   ]
  },
  {
   "cell_type": "code",
   "execution_count": null,
   "id": "610555b3",
   "metadata": {},
   "outputs": [],
   "source": [
    "driver_chrome.get('https://www.flipkart.com/')"
   ]
  },
  {
   "cell_type": "code",
   "execution_count": null,
   "id": "621bbbcf",
   "metadata": {},
   "outputs": [],
   "source": [
    "driver_chrome.maximize_window()"
   ]
  },
  {
   "cell_type": "code",
   "execution_count": null,
   "id": "976776a8",
   "metadata": {},
   "outputs": [],
   "source": [
    "product_filpkart=driver_chrome.find_element_by_class_name(\"_3704LK \")\n",
    "product_filpkart.send_keys(\"Sneakers\")\n",
    "time.sleep(2)"
   ]
  },
  {
   "cell_type": "code",
   "execution_count": null,
   "id": "bf00c6b9",
   "metadata": {},
   "outputs": [],
   "source": [
    "search_button_filpkart=driver_chrome.find_element_by_xpath(\"/html/body/div[1]/div/div[1]/div[1]/div[2]/div[2]/form/div/button\")\n",
    "search_button_filpkart.click()"
   ]
  },
  {
   "cell_type": "code",
   "execution_count": null,
   "id": "e3e0bc34",
   "metadata": {},
   "outputs": [],
   "source": [
    "brand_fp=[]\n",
    "product_description_fp=[]\n",
    "price_fp=[]"
   ]
  },
  {
   "cell_type": "code",
   "execution_count": null,
   "id": "3af59bfb",
   "metadata": {},
   "outputs": [],
   "source": [
    "for i in range(3):\n",
    "    name=driver_chrome.find_elements_by_xpath(\"//div[@class='_2WkVRV']\")\n",
    "    price=driver_chrome.find_elements_by_xpath(\"//a[@class='IRpwTa']\")\n",
    "    description=driver_chrome.find_elements_by_xpath(\"//div[@class='_30jeq3']\")\n",
    "time.sleep(5)"
   ]
  },
  {
   "cell_type": "code",
   "execution_count": null,
   "id": "43171b41",
   "metadata": {},
   "outputs": [],
   "source": [
    "for i in name:\n",
    "    brand_fp.append(i.text)\n",
    "brand_fp[0:100]"
   ]
  },
  {
   "cell_type": "code",
   "execution_count": null,
   "id": "3f2520e8",
   "metadata": {},
   "outputs": [],
   "source": [
    "next_button_filpkart_one_6=driver_chrome.find_element_by_xpath(\"/html/body/div[1]/div/div[3]/div[1]/div[2]/div[12]/div/div/nav/a[11]\")\n",
    "next_button_filpkart_one_6.click()"
   ]
  },
  {
   "cell_type": "code",
   "execution_count": null,
   "id": "31ca4ddf",
   "metadata": {},
   "outputs": [],
   "source": [
    "for i in range(3):\n",
    "    name=driver_chrome.find_elements_by_xpath(\"//div[@class='_2WkVRV']\")\n",
    "    price=driver_chrome.find_elements_by_xpath(\"//a[@class='IRpwTa']\")\n",
    "    description=driver_chrome.find_elements_by_xpath(\"//div[@class='_30jeq3']\")\n",
    "time.sleep(5)"
   ]
  },
  {
   "cell_type": "code",
   "execution_count": null,
   "id": "04d2f4d9",
   "metadata": {},
   "outputs": [],
   "source": [
    "for i in name:\n",
    "    brand_fp.append(i.text)\n",
    "brand_fp[0:100]"
   ]
  },
  {
   "cell_type": "code",
   "execution_count": null,
   "id": "d7734f1d",
   "metadata": {},
   "outputs": [],
   "source": [
    "next_button_filpkart_two_6=driver_chrome.find_element_by_xpath(\"/html/body/div[1]/div/div[3]/div[1]/div[2]/div[12]/div/div/nav/a[12]\")\n",
    "next_button_filpkart_two_6.click()"
   ]
  },
  {
   "cell_type": "code",
   "execution_count": null,
   "id": "ad44df0c",
   "metadata": {},
   "outputs": [],
   "source": [
    "for i in range(3):\n",
    "    name=driver_chrome.find_elements_by_xpath(\"//div[@class='_2WkVRV']\")\n",
    "    price=driver_chrome.find_elements_by_xpath(\"//a[@class='IRpwTa']\")\n",
    "    description=driver_chrome.find_elements_by_xpath(\"//div[@class='_30jeq3']\")\n",
    "time.sleep(5)"
   ]
  },
  {
   "cell_type": "code",
   "execution_count": null,
   "id": "0ee1215a",
   "metadata": {},
   "outputs": [],
   "source": [
    "for i in name:\n",
    "    brand_fp.append(i.text)\n",
    "brand_fp[0:100]"
   ]
  },
  {
   "cell_type": "code",
   "execution_count": null,
   "id": "e69807e9",
   "metadata": {},
   "outputs": [],
   "source": [
    "for i in price:\n",
    "    price_fp.append(i.text)\n",
    "price_fp[0:100]"
   ]
  },
  {
   "cell_type": "code",
   "execution_count": null,
   "id": "d8c9d60d",
   "metadata": {},
   "outputs": [],
   "source": [
    "next_button_filpkart_one_6=driver_chrome.find_element_by_xpath(\"/html/body/div[1]/div/div[3]/div[1]/div[2]/div[12]/div/div/nav/a[11]\")\n",
    "next_button_filpkart_one_6.click()"
   ]
  },
  {
   "cell_type": "code",
   "execution_count": null,
   "id": "cd161681",
   "metadata": {},
   "outputs": [],
   "source": [
    "for i in range(3):\n",
    "    name=driver_chrome.find_elements_by_xpath(\"//div[@class='_2WkVRV']\")\n",
    "    price=driver_chrome.find_elements_by_xpath(\"//a[@class='IRpwTa']\")\n",
    "    description=driver_chrome.find_elements_by_xpath(\"//div[@class='_30jeq3']\")\n",
    "time.sleep(5)"
   ]
  },
  {
   "cell_type": "code",
   "execution_count": null,
   "id": "edee2360",
   "metadata": {},
   "outputs": [],
   "source": [
    "for i in price:\n",
    "    price_fp.append(i.text)\n",
    "price_fp[0:100]"
   ]
  },
  {
   "cell_type": "code",
   "execution_count": null,
   "id": "a351ef88",
   "metadata": {},
   "outputs": [],
   "source": [
    "next_button_filpkart_two_6=driver_chrome.find_element_by_xpath(\"/html/body/div[1]/div/div[3]/div[1]/div[2]/div[12]/div/div/nav/a[12]\")\n",
    "next_button_filpkart_two_6.click()"
   ]
  },
  {
   "cell_type": "code",
   "execution_count": null,
   "id": "3de17865",
   "metadata": {},
   "outputs": [],
   "source": [
    "for i in range(3):\n",
    "    name=driver_chrome.find_elements_by_xpath(\"//div[@class='_2WkVRV']\")\n",
    "    price=driver_chrome.find_elements_by_xpath(\"//a[@class='IRpwTa']\")\n",
    "    description=driver_chrome.find_elements_by_xpath(\"//div[@class='_30jeq3']\")\n",
    "time.sleep(5)"
   ]
  },
  {
   "cell_type": "code",
   "execution_count": null,
   "id": "06a0db2f",
   "metadata": {},
   "outputs": [],
   "source": [
    "for i in price:\n",
    "    price_fp.append(i.text)\n",
    "price_fp[0:100]"
   ]
  },
  {
   "cell_type": "code",
   "execution_count": null,
   "id": "6faf2239",
   "metadata": {},
   "outputs": [],
   "source": [
    "for i in description:\n",
    "    product_description_fp.append(i.text)\n",
    "product_description_fp[0:100]"
   ]
  },
  {
   "cell_type": "code",
   "execution_count": null,
   "id": "4cf8d93f",
   "metadata": {},
   "outputs": [],
   "source": [
    "next_button_filpkart_one_6=driver_chrome.find_element_by_xpath(\"/html/body/div[1]/div/div[3]/div[1]/div[2]/div[12]/div/div/nav/a[11]\")\n",
    "next_button_filpkart_one_6.click()"
   ]
  },
  {
   "cell_type": "code",
   "execution_count": null,
   "id": "26f2ab72",
   "metadata": {},
   "outputs": [],
   "source": [
    "for i in range(3):\n",
    "    name=driver_chrome.find_elements_by_xpath(\"//div[@class='_2WkVRV']\")\n",
    "    price=driver_chrome.find_elements_by_xpath(\"//a[@class='IRpwTa']\")\n",
    "    description=driver_chrome.find_elements_by_xpath(\"//div[@class='_30jeq3']\")\n",
    "time.sleep(5)"
   ]
  },
  {
   "cell_type": "code",
   "execution_count": null,
   "id": "bacfcbef",
   "metadata": {},
   "outputs": [],
   "source": [
    "for i in description:\n",
    "    product_description_fp.append(i.text)\n",
    "product_description_fp[0:100]"
   ]
  },
  {
   "cell_type": "code",
   "execution_count": null,
   "id": "078c7b75",
   "metadata": {},
   "outputs": [],
   "source": [
    "next_button_filpkart_two_6=driver_chrome.find_element_by_xpath(\"/html/body/div[1]/div/div[3]/div[1]/div[2]/div[12]/div/div/nav/a[12]\")\n",
    "next_button_filpkart_two_6.click()"
   ]
  },
  {
   "cell_type": "code",
   "execution_count": null,
   "id": "830ff3c8",
   "metadata": {},
   "outputs": [],
   "source": [
    "for i in range(3):\n",
    "    name=driver_chrome.find_elements_by_xpath(\"//div[@class='_2WkVRV']\")\n",
    "    price=driver_chrome.find_elements_by_xpath(\"//a[@class='IRpwTa']\")\n",
    "    description=driver_chrome.find_elements_by_xpath(\"//div[@class='_30jeq3']\")\n",
    "time.sleep(5)"
   ]
  },
  {
   "cell_type": "code",
   "execution_count": null,
   "id": "7a5e6ba6",
   "metadata": {},
   "outputs": [],
   "source": [
    "for i in description:\n",
    "    product_description_fp.append(i.text)\n",
    "product_description_fp[0:100]"
   ]
  },
  {
   "cell_type": "code",
   "execution_count": null,
   "id": "9511cf06",
   "metadata": {},
   "outputs": [],
   "source": [
    "#7 python program to scrape the data from amazon"
   ]
  },
  {
   "cell_type": "code",
   "execution_count": null,
   "id": "e44b6abb",
   "metadata": {},
   "outputs": [],
   "source": [
    "!pip install selenium"
   ]
  },
  {
   "cell_type": "code",
   "execution_count": null,
   "id": "7a34bea0",
   "metadata": {},
   "outputs": [],
   "source": [
    "import selenium\n",
    "import pandas as pd\n",
    "from selenium import webdriver\n",
    "from selenium.webdriver.common.keys import Keys\n",
    "import warnings\n",
    "warnings.filterwarnings(\"ignore\")\n",
    "import time\n",
    "from time import sleep"
   ]
  },
  {
   "cell_type": "code",
   "execution_count": null,
   "id": "aee4df3a",
   "metadata": {},
   "outputs": [],
   "source": [
    "driver_chrome=webdriver.Chrome(\"chromedriver.exe\")"
   ]
  },
  {
   "cell_type": "code",
   "execution_count": null,
   "id": "dbfe825d",
   "metadata": {},
   "outputs": [],
   "source": [
    "driver_chrome.get(\"https://www.amazon.in/\")"
   ]
  },
  {
   "cell_type": "code",
   "execution_count": null,
   "id": "ad9ae5d3",
   "metadata": {},
   "outputs": [],
   "source": [
    "driver_chrome.maximize_window()"
   ]
  },
  {
   "cell_type": "code",
   "execution_count": null,
   "id": "17ee3caf",
   "metadata": {},
   "outputs": [],
   "source": [
    "amazon_search=driver_chrome.find_element_by_xpath(\"/html/body/div[1]/header/div/div[1]/div[2]/div/form/div[2]/div[1]/input\")\n",
    "amazon_search.send_keys(\"laptop\")"
   ]
  },
  {
   "cell_type": "code",
   "execution_count": null,
   "id": "36b2514f",
   "metadata": {},
   "outputs": [],
   "source": [
    "search_button=driver_chrome.find_element_by_xpath(\"/html/body/div[1]/header/div/div[1]/div[2]/div/form/div[3]/div/span/input\")\n",
    "search_button.click()\n",
    "time.sleep(2)"
   ]
  },
  {
   "cell_type": "code",
   "execution_count": null,
   "id": "9daa067a",
   "metadata": {},
   "outputs": [],
   "source": [
    "cpu_type_button=driver_chrome.find_element_by_xpath(\"/html/body/div[1]/div[2]/div[1]/div[2]/div/div[3]/span/div[1]/div/div/div[6]/ul[4]/li[13]/span/a/div\")\n",
    "cpu_type_button.click()"
   ]
  },
  {
   "cell_type": "code",
   "execution_count": null,
   "id": "a2d4449b",
   "metadata": {},
   "outputs": [],
   "source": [
    "title_name=[]\n",
    "rating=[]\n",
    "prices=[]"
   ]
  },
  {
   "cell_type": "code",
   "execution_count": null,
   "id": "7013752d",
   "metadata": {},
   "outputs": [],
   "source": [
    "titles_lap=driver_chrome.find_elements_by_xpath(\"//h2[@class='a-size-mini a-spacing-none a-color-base s-line-clamp-2']\")\n",
    "titles_lap[0:10]"
   ]
  },
  {
   "cell_type": "code",
   "execution_count": null,
   "id": "77e12f23",
   "metadata": {},
   "outputs": [],
   "source": [
    "for i in titles_lap:\n",
    "    title=i.text\n",
    "    title_name.append(title)\n",
    "title_name[0:10]"
   ]
  },
  {
   "cell_type": "code",
   "execution_count": null,
   "id": "992d4541",
   "metadata": {},
   "outputs": [],
   "source": [
    "rating_lap=driver_chrome.find_elements_by_xpath(\"//span[@class='a-declarative']\")\n",
    "rating_lap[0:10]"
   ]
  },
  {
   "cell_type": "code",
   "execution_count": null,
   "id": "c1706533",
   "metadata": {},
   "outputs": [],
   "source": [
    "for i in rating_lap:\n",
    "    rate=i.text\n",
    "    rating.append(rate)\n",
    "rating[0:10]"
   ]
  },
  {
   "cell_type": "code",
   "execution_count": null,
   "id": "8bee1279",
   "metadata": {},
   "outputs": [],
   "source": [
    "prices_lap=driver_chrome.find_elements_by_xpath(\"//span[@class='a-price']\")\n",
    "prices_lap[0:10]"
   ]
  },
  {
   "cell_type": "code",
   "execution_count": null,
   "id": "e5e6c035",
   "metadata": {},
   "outputs": [],
   "source": [
    "for i in prices_lap:\n",
    "    price=i.text\n",
    "    prices.append(price)\n",
    "prices[0:10]"
   ]
  },
  {
   "cell_type": "code",
   "execution_count": null,
   "id": "d3b60422",
   "metadata": {},
   "outputs": [],
   "source": []
  },
  {
   "cell_type": "code",
   "execution_count": null,
   "id": "bcb48445",
   "metadata": {},
   "outputs": [],
   "source": [
    "# 8  a python program to scrape data for Top 1000 Quotes of All Time"
   ]
  },
  {
   "cell_type": "code",
   "execution_count": null,
   "id": "545b8e60",
   "metadata": {},
   "outputs": [],
   "source": [
    "import selenium\n",
    "import pandas as pd\n",
    "from selenium import webdriver\n",
    "from selenium.webdriver.common.keys import Keys\n",
    "import warnings\n",
    "warnings.filterwarnings(\"ignore\")\n",
    "import time\n",
    "from time import sleep"
   ]
  },
  {
   "cell_type": "code",
   "execution_count": null,
   "id": "517b9a59",
   "metadata": {},
   "outputs": [],
   "source": [
    "driver_chrome=webdriver.Chrome(\"chromedriver.exe\")"
   ]
  },
  {
   "cell_type": "code",
   "execution_count": null,
   "id": "41bdb742",
   "metadata": {},
   "outputs": [],
   "source": [
    "driver_chrome.get('https://www.azquotes.com/')\n",
    "driver_chrome.maximize_window()"
   ]
  },
  {
   "cell_type": "code",
   "execution_count": null,
   "id": "006cc91b",
   "metadata": {},
   "outputs": [],
   "source": [
    "top_quotes_button=driver_chrome.find_element_by_xpath(\"/html/body/div[1]/div[1]/div[1]/div/div[3]/ul/li[5]/a\")\n",
    "top_quotes_button.click()\n",
    "time.sleep(2)"
   ]
  },
  {
   "cell_type": "code",
   "execution_count": null,
   "id": "40b86fcf",
   "metadata": {},
   "outputs": [],
   "source": [
    "qoute_name=[]\n",
    "Author=[]\n",
    "type_quote=[]"
   ]
  },
  {
   "cell_type": "code",
   "execution_count": null,
   "id": "0f97cdf5",
   "metadata": {},
   "outputs": [],
   "source": [
    "names=driver_chrome.find_elements_by_xpath(\"//a[@class='title']\")\n",
    "names[0:1000]"
   ]
  },
  {
   "cell_type": "code",
   "execution_count": null,
   "id": "88860045",
   "metadata": {},
   "outputs": [],
   "source": [
    "for i in names:\n",
    "    name=i.text\n",
    "    qoute_name.append(name)\n",
    "quote_name[0:1000]"
   ]
  },
  {
   "cell_type": "code",
   "execution_count": null,
   "id": "cd57e6e6",
   "metadata": {},
   "outputs": [],
   "source": [
    "Authors=driver_chrome.find_elements_by_xpath(\"//div[@class='author']\")\n",
    "Authors[0:1000]"
   ]
  },
  {
   "cell_type": "code",
   "execution_count": null,
   "id": "593ceebe",
   "metadata": {},
   "outputs": [],
   "source": [
    "for i in Authors:\n",
    "    Author=i.text\n",
    "    Author.append(Author)\n",
    "Author[0:1000]"
   ]
  },
  {
   "cell_type": "code",
   "execution_count": null,
   "id": "740350d6",
   "metadata": {},
   "outputs": [],
   "source": [
    "types=driver_chrome.find_elements_by_xpath(\"//div[@class='tags']\")\n",
    "types[0:1000]"
   ]
  },
  {
   "cell_type": "code",
   "execution_count": null,
   "id": "1c409f78",
   "metadata": {},
   "outputs": [],
   "source": [
    "for i in types:\n",
    "    type=i.text\n",
    "    type_quote.append(type)\n",
    "type_quote[0:1000]"
   ]
  },
  {
   "cell_type": "code",
   "execution_count": null,
   "id": "cb525122",
   "metadata": {},
   "outputs": [],
   "source": [
    "# 9 a python program to display list of respected former Prime Ministers of India"
   ]
  },
  {
   "cell_type": "code",
   "execution_count": null,
   "id": "ba1b0ca8",
   "metadata": {},
   "outputs": [],
   "source": [
    "import selenium\n",
    "import pandas as pd\n",
    "from selenium import webdriver\n",
    "from selenium.webdriver.common.keys import Keys\n",
    "import warnings\n",
    "warnings.filterwarnings(\"ignore\")\n",
    "import time\n",
    "from time import sleep"
   ]
  },
  {
   "cell_type": "code",
   "execution_count": null,
   "id": "cbd36c61",
   "metadata": {},
   "outputs": [],
   "source": [
    "driver_chrome=webdriver.Chrome(\"chromedriver.exe\")"
   ]
  },
  {
   "cell_type": "code",
   "execution_count": null,
   "id": "9c27c687",
   "metadata": {},
   "outputs": [],
   "source": [
    "driver_chrome.get('https://www.jagranjosh.com/')\n",
    "driver_chrome.maximize_window()"
   ]
  },
  {
   "cell_type": "code",
   "execution_count": null,
   "id": "db30f4c3",
   "metadata": {},
   "outputs": [],
   "source": [
    "GK_button=driver_chrome.find_element_by_xpath(\"/html/body/div[1]/div[1]/div/div[1]/div/div[6]/div/div[1]/header/div[3]/ul/li[9]/a\")\n",
    "GK_button.click()\n",
    "time.sleep(2)"
   ]
  },
  {
   "cell_type": "code",
   "execution_count": null,
   "id": "95d0bb74",
   "metadata": {},
   "outputs": [],
   "source": [
    "prime_ministers=driver_chrome.find_element_by_xpath(\"/html/body/div[1]/div/div/div[2]/div/div[14]/div/div/ul/li[3]/a\")\n",
    "prime_ministers.click()\n",
    "time.sleep(2)"
   ]
  },
  {
   "cell_type": "code",
   "execution_count": null,
   "id": "c2bbd128",
   "metadata": {},
   "outputs": [],
   "source": [
    "driver_chrome.get('https://www.jagranjosh.com/general-knowledge/list-of-all-prime-ministers-of-india-1473165149-1')"
   ]
  },
  {
   "cell_type": "code",
   "execution_count": null,
   "id": "66a1eae8",
   "metadata": {},
   "outputs": [],
   "source": [
    "all=driver_chrome.find_elements_by_xpath(\"//div[@class='table-box']\")\n",
    "all[0:18]"
   ]
  },
  {
   "cell_type": "code",
   "execution_count": null,
   "id": "96da8590",
   "metadata": {},
   "outputs": [],
   "source": [
    "# 10 Write a python program to display list of 50 Most expensive cars in the world"
   ]
  },
  {
   "cell_type": "code",
   "execution_count": null,
   "id": "304bc79d",
   "metadata": {},
   "outputs": [],
   "source": [
    "import selenium\n",
    "import pandas as pd\n",
    "from selenium import webdriver\n",
    "from selenium.webdriver.common.keys import Keys\n",
    "import warnings\n",
    "warnings.filterwarnings(\"ignore\")\n",
    "import time\n",
    "from time import sleep"
   ]
  },
  {
   "cell_type": "code",
   "execution_count": null,
   "id": "9de4171d",
   "metadata": {},
   "outputs": [],
   "source": [
    "driver_chrome=webdriver.Chrome(\"chromedriver.exe\")"
   ]
  },
  {
   "cell_type": "code",
   "execution_count": null,
   "id": "514b6b7b",
   "metadata": {},
   "outputs": [],
   "source": [
    "driver_chrome.get('https://www.motor1.com/')\n",
    "driver_chrome.maximize_window()"
   ]
  },
  {
   "cell_type": "code",
   "execution_count": null,
   "id": "96a36b9d",
   "metadata": {},
   "outputs": [],
   "source": [
    "/html/body/div[4]/div[1]/div[3]/ul/li[2]/ul/li[3]/a"
   ]
  },
  {
   "cell_type": "code",
   "execution_count": null,
   "id": "ba1d4de4",
   "metadata": {},
   "outputs": [],
   "source": [
    "cars=driver_chrome.find_element_by_xpath(\"/html/body/div[4]/div[1]/div[3]/ul/li[2]/ul/li[3]/acars=driver_chrome.find_element_by_xpath\")\n",
    "cars.click()\n",
    "time.sleep(2)"
   ]
  },
  {
   "cell_type": "code",
   "execution_count": null,
   "id": "190c911d",
   "metadata": {},
   "outputs": [],
   "source": []
  },
  {
   "cell_type": "code",
   "execution_count": null,
   "id": "ced79e17",
   "metadata": {},
   "outputs": [],
   "source": []
  },
  {
   "cell_type": "code",
   "execution_count": null,
   "id": "8f3d5293",
   "metadata": {},
   "outputs": [],
   "source": []
  },
  {
   "cell_type": "code",
   "execution_count": null,
   "id": "7d4ced1b",
   "metadata": {},
   "outputs": [],
   "source": []
  },
  {
   "cell_type": "code",
   "execution_count": null,
   "id": "caa67e34",
   "metadata": {},
   "outputs": [],
   "source": []
  },
  {
   "cell_type": "code",
   "execution_count": null,
   "id": "cea96e63",
   "metadata": {},
   "outputs": [],
   "source": []
  },
  {
   "cell_type": "code",
   "execution_count": null,
   "id": "0975e166",
   "metadata": {},
   "outputs": [],
   "source": []
  },
  {
   "cell_type": "code",
   "execution_count": null,
   "id": "aba4cf5a",
   "metadata": {},
   "outputs": [],
   "source": []
  },
  {
   "cell_type": "code",
   "execution_count": null,
   "id": "ea6b6596",
   "metadata": {},
   "outputs": [],
   "source": []
  },
  {
   "cell_type": "code",
   "execution_count": null,
   "id": "3dc2d6a1",
   "metadata": {},
   "outputs": [],
   "source": []
  },
  {
   "cell_type": "code",
   "execution_count": null,
   "id": "0f77b731",
   "metadata": {},
   "outputs": [],
   "source": []
  },
  {
   "cell_type": "code",
   "execution_count": null,
   "id": "815a0fc0",
   "metadata": {},
   "outputs": [],
   "source": []
  }
 ],
 "metadata": {
  "kernelspec": {
   "display_name": "Python 3 (ipykernel)",
   "language": "python",
   "name": "python3"
  },
  "language_info": {
   "codemirror_mode": {
    "name": "ipython",
    "version": 3
   },
   "file_extension": ".py",
   "mimetype": "text/x-python",
   "name": "python",
   "nbconvert_exporter": "python",
   "pygments_lexer": "ipython3",
   "version": "3.9.12"
  }
 },
 "nbformat": 4,
 "nbformat_minor": 5
}
